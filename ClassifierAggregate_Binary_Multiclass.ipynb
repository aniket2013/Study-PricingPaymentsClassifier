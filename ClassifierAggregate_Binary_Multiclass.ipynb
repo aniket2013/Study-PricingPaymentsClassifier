{
 "cells": [
  {
   "cell_type": "markdown",
   "metadata": {},
   "source": [
    "# Study for Different Models and their peformance"
   ]
  },
  {
   "cell_type": "code",
   "execution_count": 2,
   "metadata": {
    "ExecuteTime": {
     "end_time": "2019-09-11T07:20:51.896455Z",
     "start_time": "2019-09-11T07:20:51.883533Z"
    },
    "scrolled": true
   },
   "outputs": [],
   "source": [
    "import pandas as pd\n",
    "import numpy as np\n",
    "import matplotlib.pyplot as plt\n",
    "from sklearn.preprocessing import MinMaxScaler\n",
    "from sklearn.preprocessing import StandardScaler\n",
    "from sklearn.neighbors import KNeighborsClassifier\n",
    "from sklearn.linear_model import LogisticRegression\n",
    "from sklearn.tree import DecisionTreeClassifier\n",
    "from sklearn.svm import LinearSVC\n",
    "from sklearn.svm import SVC\n",
    "from sklearn.model_selection import train_test_split\n",
    "from tqdm.autonotebook import tqdm\n",
    "from tqdm import trange\n",
    "from time import sleep\n",
    "from sklearn.model_selection import learning_curve, GridSearchCV\n",
    "import warnings\n",
    "warnings.filterwarnings('ignore')\n",
    "# %%time\n",
    "import os\n",
    "os.environ[\"PATH\"] += os.pathsep + 'C:/Program Files (x86)/release/bin'\n",
    "from sklearn.ensemble import RandomForestClassifier\n",
    "from sklearn.ensemble import GradientBoostingClassifier\n",
    "from sklearn.naive_bayes import GaussianNB\n",
    "from xgboost.sklearn import XGBClassifier\n",
    "from sklearn.naive_bayes import MultinomialNB\n",
    "from sklearn.metrics import classification_report\n",
    "from sklearn.metrics import roc_auc_score"
   ]
  },
  {
   "cell_type": "markdown",
   "metadata": {},
   "source": [
    "# 1. For the Sheet name 100, ie. with 100 entries"
   ]
  },
  {
   "cell_type": "code",
   "execution_count": 2,
   "metadata": {
    "ExecuteTime": {
     "end_time": "2019-08-16T15:32:22.577698Z",
     "start_time": "2019-08-16T15:32:21.757959Z"
    }
   },
   "outputs": [
    {
     "data": {
      "text/html": [
       "<div>\n",
       "<style scoped>\n",
       "    .dataframe tbody tr th:only-of-type {\n",
       "        vertical-align: middle;\n",
       "    }\n",
       "\n",
       "    .dataframe tbody tr th {\n",
       "        vertical-align: top;\n",
       "    }\n",
       "\n",
       "    .dataframe thead th {\n",
       "        text-align: right;\n",
       "    }\n",
       "</style>\n",
       "<table border=\"1\" class=\"dataframe\">\n",
       "  <thead>\n",
       "    <tr style=\"text-align: right;\">\n",
       "      <th></th>\n",
       "      <th>Eng7</th>\n",
       "      <th>Eng8</th>\n",
       "      <th>Eng9</th>\n",
       "      <th>Math7</th>\n",
       "      <th>Math8</th>\n",
       "      <th>Math9</th>\n",
       "      <th>Sci7</th>\n",
       "      <th>Sci8</th>\n",
       "      <th>Sci9</th>\n",
       "      <th>GWA7</th>\n",
       "      <th>GWA8</th>\n",
       "      <th>GWA9</th>\n",
       "      <th>IQ</th>\n",
       "      <th>SA</th>\n",
       "      <th>Target</th>\n",
       "    </tr>\n",
       "  </thead>\n",
       "  <tbody>\n",
       "    <tr>\n",
       "      <th>0</th>\n",
       "      <td>77</td>\n",
       "      <td>82</td>\n",
       "      <td>86</td>\n",
       "      <td>94</td>\n",
       "      <td>87</td>\n",
       "      <td>92</td>\n",
       "      <td>84</td>\n",
       "      <td>80</td>\n",
       "      <td>92</td>\n",
       "      <td>1.4764</td>\n",
       "      <td>1.5045</td>\n",
       "      <td>1.4098</td>\n",
       "      <td>55</td>\n",
       "      <td>28</td>\n",
       "      <td>1</td>\n",
       "    </tr>\n",
       "    <tr>\n",
       "      <th>1</th>\n",
       "      <td>57</td>\n",
       "      <td>57</td>\n",
       "      <td>59</td>\n",
       "      <td>55</td>\n",
       "      <td>46</td>\n",
       "      <td>57</td>\n",
       "      <td>53</td>\n",
       "      <td>45</td>\n",
       "      <td>53</td>\n",
       "      <td>2.6557</td>\n",
       "      <td>2.7000</td>\n",
       "      <td>2.7008</td>\n",
       "      <td>38</td>\n",
       "      <td>19</td>\n",
       "      <td>0</td>\n",
       "    </tr>\n",
       "    <tr>\n",
       "      <th>2</th>\n",
       "      <td>55</td>\n",
       "      <td>52</td>\n",
       "      <td>55</td>\n",
       "      <td>57</td>\n",
       "      <td>53</td>\n",
       "      <td>51</td>\n",
       "      <td>57</td>\n",
       "      <td>62</td>\n",
       "      <td>51</td>\n",
       "      <td>2.6132</td>\n",
       "      <td>2.6818</td>\n",
       "      <td>2.7172</td>\n",
       "      <td>17</td>\n",
       "      <td>9</td>\n",
       "      <td>0</td>\n",
       "    </tr>\n",
       "    <tr>\n",
       "      <th>3</th>\n",
       "      <td>69</td>\n",
       "      <td>78</td>\n",
       "      <td>78</td>\n",
       "      <td>87</td>\n",
       "      <td>79</td>\n",
       "      <td>79</td>\n",
       "      <td>83</td>\n",
       "      <td>82</td>\n",
       "      <td>79</td>\n",
       "      <td>1.7217</td>\n",
       "      <td>1.6136</td>\n",
       "      <td>1.7049</td>\n",
       "      <td>45</td>\n",
       "      <td>28</td>\n",
       "      <td>0</td>\n",
       "    </tr>\n",
       "    <tr>\n",
       "      <th>4</th>\n",
       "      <td>64</td>\n",
       "      <td>71</td>\n",
       "      <td>68</td>\n",
       "      <td>71</td>\n",
       "      <td>57</td>\n",
       "      <td>54</td>\n",
       "      <td>60</td>\n",
       "      <td>59</td>\n",
       "      <td>55</td>\n",
       "      <td>2.4245</td>\n",
       "      <td>2.4318</td>\n",
       "      <td>2.4713</td>\n",
       "      <td>67</td>\n",
       "      <td>56</td>\n",
       "      <td>0</td>\n",
       "    </tr>\n",
       "  </tbody>\n",
       "</table>\n",
       "</div>"
      ],
      "text/plain": [
       "   Eng7  Eng8  Eng9  Math7  Math8  Math9  Sci7  Sci8  Sci9    GWA7    GWA8  \\\n",
       "0    77    82    86     94     87     92    84    80    92  1.4764  1.5045   \n",
       "1    57    57    59     55     46     57    53    45    53  2.6557  2.7000   \n",
       "2    55    52    55     57     53     51    57    62    51  2.6132  2.6818   \n",
       "3    69    78    78     87     79     79    83    82    79  1.7217  1.6136   \n",
       "4    64    71    68     71     57     54    60    59    55  2.4245  2.4318   \n",
       "\n",
       "     GWA9  IQ  SA  Target  \n",
       "0  1.4098  55  28       1  \n",
       "1  2.7008  38  19       0  \n",
       "2  2.7172  17   9       0  \n",
       "3  1.7049  45  28       0  \n",
       "4  2.4713  67  56       0  "
      ]
     },
     "execution_count": 2,
     "metadata": {},
     "output_type": "execute_result"
    }
   ],
   "source": [
    "df_UPCAT = pd.read_excel('UPCAT_DATA2.xlsx', sheetname='100') #Sheet1-Multiclass\n",
    "dummy = df_UPCAT\n",
    "dummy.head()"
   ]
  },
  {
   "cell_type": "code",
   "execution_count": 3,
   "metadata": {
    "ExecuteTime": {
     "end_time": "2019-08-16T15:32:25.290068Z",
     "start_time": "2019-08-16T15:32:25.247210Z"
    }
   },
   "outputs": [
    {
     "data": {
      "text/plain": [
       "Eng7      0\n",
       "Eng8      0\n",
       "Eng9      0\n",
       "Math7     0\n",
       "Math8     0\n",
       "Math9     0\n",
       "Sci7      0\n",
       "Sci8      0\n",
       "Sci9      0\n",
       "GWA7      0\n",
       "GWA8      0\n",
       "GWA9      0\n",
       "IQ        0\n",
       "SA        0\n",
       "Target    0\n",
       "dtype: int64"
      ]
     },
     "execution_count": 3,
     "metadata": {},
     "output_type": "execute_result"
    }
   ],
   "source": [
    "import pandas as pd\n",
    "import numpy as np\n",
    "\n",
    "from sklearn.base import TransformerMixin\n",
    "\n",
    "class DataFrameImputer(TransformerMixin):\n",
    "\n",
    "    def __init__(self):\n",
    "        \"\"\"Impute missing values.\n",
    "\n",
    "        Columns of dtype object are imputed with the most frequent value \n",
    "        in column.\n",
    "\n",
    "        Columns of other types are imputed with mean of column.\n",
    "\n",
    "        \"\"\"\n",
    "    def fit(self, X, y=None):\n",
    "\n",
    "        self.fill = pd.Series([X[c].value_counts().index[0]\n",
    "            if X[c].dtype == np.dtype('O') else X[c].mean() for c in X],\n",
    "            index=X.columns)\n",
    "\n",
    "        return self\n",
    "\n",
    "    def transform(self, X, y=None):\n",
    "        return X.fillna(self.fill)\n",
    "\n",
    "\n",
    "\n",
    "X_transition = pd.DataFrame(df_UPCAT)\n",
    "X_clean = DataFrameImputer().fit_transform(X_transition)\n",
    "\n",
    "X_clean.isnull().sum()"
   ]
  },
  {
   "cell_type": "code",
   "execution_count": 8,
   "metadata": {
    "ExecuteTime": {
     "end_time": "2019-08-16T15:36:38.665402Z",
     "start_time": "2019-08-16T15:36:38.519843Z"
    }
   },
   "outputs": [],
   "source": [
    "Number_trials=10\n",
    "\n",
    "def train_knn(X, y, scale=None):\n",
    "    \"\"\"\n",
    "    Implements KNN Classification\n",
    "    \n",
    "    Parameters:\n",
    "    --------------\n",
    "    X - Cleaned Data\n",
    "    y - Target\n",
    "    scale - Default is None. Specify scaler e.g StandardScaler or MinMaxScaler\n",
    "    \n",
    "    \"\"\"\n",
    "    score_train = []\n",
    "    score_test = []\n",
    "    \n",
    "    \n",
    "    print('KNN Classifier')\n",
    "    for seed in tqdm(range(Number_trials)):\n",
    "        X_train, X_test, y_train, y_test = train_test_split(X, y, test_size=0.25, random_state=seed)\n",
    "        if scale:\n",
    "            X_train = scale.fit_transform(X_train)\n",
    "            X_test = scale.transform(X_test)\n",
    "\n",
    "        neighbors_settings = range(1,70)\n",
    "        acc_train = []\n",
    "        acc_test = []\n",
    "\n",
    "        for n_neighbors in neighbors_settings:   \n",
    "            clf = KNeighborsClassifier(n_neighbors=n_neighbors) # build the model \n",
    "            clf.fit(X_train, y_train)    \n",
    "            acc_train.append(clf.score(X_train, y_train))\n",
    "            acc_test.append(clf.score(X_test, y_test))\n",
    "\n",
    "        score_train.append(acc_train)\n",
    "        score_test.append(acc_test)   \n",
    "        \n",
    "    score = np.mean(score_test, axis=0)\n",
    "    #auc = roc_auc_score(y_test,clf.predict_proba(X_test)[:,1]) only for binary classification\n",
    "    #return n_neighbor, accuracy\n",
    "#     print('Scaling used is: ', scale)\n",
    "    return ['kNN', np.amax(score), 'N_Neighbor = {0}'.format(np.argmax(score)+1), 'NA']\n",
    "\n",
    "def train_logistic(X, y, reg, scale=None):\n",
    "    \"\"\"\n",
    "    Implements Logistic Regression\n",
    "    \n",
    "    Parameters:\n",
    "    --------------\n",
    "    X - Cleaned Data\n",
    "    y - Target\n",
    "    reg - Regularization Parameter (l1/l2)\n",
    "    scale - Default is None. Specify scaler e.g StandardScaler or MinMaxScaler\n",
    "    \n",
    "    \"\"\"\n",
    "    C = [1e-8, 1e-4, 1e-3, 1e-2, 0.1, 0.2,0.4, 0.75, 1, 1.5, 3, 5, 10, 15,  20, 100, 300, 1000, 5000]\n",
    "\n",
    "    score_train = []\n",
    "    score_test = []\n",
    "    weighted_coefs=[]\n",
    "    print('Logistic - {}'.format(reg))\n",
    "    for seed in tqdm(range(Number_trials)):\n",
    "        training_accuracy = []  \n",
    "        test_accuracy = []\n",
    "        X_train, X_test, y_train, y_test = train_test_split(X, y, test_size=0.25, random_state=seed)\n",
    "        if scale:\n",
    "            X_train = scale.fit_transform(X_train)\n",
    "            X_test = scale.transform(X_test)\n",
    "        for alpha_run in C:\n",
    "            lr = LogisticRegression(C=alpha_run, penalty=reg).fit(X_train, y_train)\n",
    "            training_accuracy.append(lr.score(X_train, y_train))\n",
    "            test_accuracy.append(lr.score(X_test, y_test))\n",
    "            coefs=lr.coef_ \n",
    "            weighted_coefs.append(coefs) #append all the computed coefficients per trial\n",
    "                \n",
    "        score_train.append(training_accuracy)\n",
    "        score_test.append(test_accuracy)\n",
    "    \n",
    "    mean_coefs=np.mean(weighted_coefs, axis=0) #get the mean of the weighted coefficients over all the trials \n",
    "    #print(mean_coefs) \n",
    "    score = np.mean(score_test, axis=0)\n",
    "    #return score.shape\n",
    "    #coefs = lr.coef_\n",
    "    #return C value, accuracy, column/feature name\n",
    "#     top_predictor='NA'\n",
    "    if (np.unique(y).size > 2):\n",
    "        class_coeff={}\n",
    "        C_max=C[np.argmax(score)]\n",
    "        lr = LogisticRegression(C=C_max,penalty=reg).fit(X_train, y_train)\n",
    "        coeff = lr.coef_\n",
    "        class1 = lr.classes_\n",
    "        for c,i in zip(class1,range(coeff.shape[0])):\n",
    "#             print(coeff[i])\n",
    "            class_coeff[c] = X.columns[np.argmax(coeff[i])]\n",
    "\n",
    "    \n",
    "    if (np.unique(y).size == 2):\n",
    "        top_predictor=X.columns[np.argmax(np.abs(mean_coefs))]\n",
    "        abs_mean_coefs = np.abs(mean_coefs[0,:])\n",
    "        coefs_count = len(abs_mean_coefs)\n",
    "        fig, ax = plt.subplots(figsize=(3,5))\n",
    "        ax.barh(np.arange(coefs_count), sorted(abs_mean_coefs))\n",
    "        #ax.barh(np.arange(coefs_count), mean_coefs[0, np.argsort(abs_mean_coefs)])\n",
    "        ax.set_yticks(np.arange(coefs_count))\n",
    "        ax.set_yticklabels(X.columns[np.argsort(abs_mean_coefs)])\n",
    "        ax.set_title('Logistic Regression Feature Importance {0} regularized'.format(reg))\n",
    "        #     print('Scaling used is: ', scale)    \n",
    "        return ['Logistic ({0})'.format(reg), np.amax(score), \\\n",
    "                'C = {0}'.format(C[np.argmax(score)]), top_predictor]\n",
    "    else:\n",
    "        return ['Logistic ({0})'.format(reg), np.amax(score), \\\n",
    "                'C = {0}'.format(C[np.argmax(score)]), class_coeff]\n",
    "\n",
    "def train_svm(X, y, reg, scale=None):\n",
    "    \"\"\"\n",
    "    Implements SVM\n",
    "    \n",
    "    Parameters:\n",
    "    --------------\n",
    "    X - Cleaned Data\n",
    "    y - Target\n",
    "    reg - Regularization Parameter (l1/l2)\n",
    "    scale - Default is None. Specify scaler e.g StandardScaler or MinMaxScaler\n",
    "    \n",
    "    \"\"\"\n",
    "    C = [1e-8, 1e-4, 1e-3, 1e-2, 0.1, 0.2,0.4, 0.75, 1, 1.5, 3, 5, 10, 15,  20, 100, 300, 1000, 5000]\n",
    "    \n",
    "    score_train = []\n",
    "    score_test = []\n",
    "    weighted_coefs=[]\n",
    "    print('SVM - {}'.format(reg))\n",
    "    for seed in tqdm(range(Number_trials)):\n",
    "        training_accuracy = []  \n",
    "        test_accuracy = []\n",
    "        X_train, X_test, y_train, y_test = train_test_split(X, y, test_size=0.25, random_state=seed)\n",
    "        if scale:\n",
    "            X_train = scale.fit_transform(X_train)\n",
    "            X_test = scale.transform(X_test)\n",
    "        for alpha_run in C:\n",
    "            if reg == 'l1':\n",
    "                svc = LinearSVC(C=alpha_run, penalty=reg, loss='squared_hinge', dual=False).fit(X_train, y_train)\n",
    "            if reg == 'l2':\n",
    "                svc = LinearSVC(C=alpha_run, penalty=reg).fit(X_train, y_train)\n",
    "            training_accuracy.append(svc.score(X_train, y_train))\n",
    "            test_accuracy.append(svc.score(X_test, y_test))\n",
    "           # if alpha_run == 0.01:\n",
    "            coefs = svc.coef_\n",
    "            weighted_coefs.append(coefs)\n",
    "                \n",
    "        score_train.append(training_accuracy)\n",
    "        score_test.append(test_accuracy)\n",
    " \n",
    "\n",
    "    mean_coefs=np.mean(weighted_coefs, axis=0) #get the mean of the weighted coefficients over all the trials       \n",
    "    score = np.mean(score_test, axis=0)\n",
    "    \n",
    "\n",
    "    if (np.unique(y).size > 2):\n",
    "        class_coeff={}\n",
    "        C_max=C[np.argmax(score)]\n",
    "        if reg == 'l1':\n",
    "                    svc = LinearSVC(C=C_max, penalty=reg, loss='squared_hinge', dual=False).fit(X_train, y_train)\n",
    "        if reg == 'l2':\n",
    "                    svc = LinearSVC(C=C_max, penalty=reg).fit(X_train, y_train)\n",
    "        coeff = svc.coef_\n",
    "        class1 = svc.classes_\n",
    "        for c,i in zip(class1,range(coeff.shape[0])):\n",
    "            class_coeff[c] = X.columns[np.argmax(coeff[i])]\n",
    "\n",
    "\n",
    "    if (np.unique(y).size == 2):\n",
    "        top_predictor=X.columns[np.argmax(np.abs(mean_coefs))]\n",
    "        abs_mean_coefs = np.abs(mean_coefs[0,:])\n",
    "        coefs_count = len(abs_mean_coefs)\n",
    "        fig, ax = plt.subplots(figsize=(3,5))\n",
    "        ax.barh(np.arange(coefs_count), sorted(abs_mean_coefs))\n",
    "        #ax.barh(np.arange(coefs_count), mean_coefs[0, np.argsort(abs_mean_coefs)])\n",
    "        ax.set_yticks(np.arange(coefs_count))\n",
    "        ax.set_yticklabels(X.columns[np.argsort(abs_mean_coefs)])\n",
    "        ax.set_title('SVM Feature Importance {0} regularized'.format(reg))\n",
    "        #     print('Scaling used is: ', scale)    \n",
    "        return ['SVM ({0})'.format(reg), np.amax(score), \\\n",
    "                'C = {0}'.format(C[np.argmax(score)]), top_predictor]\n",
    "    else:\n",
    "        return ['SVM ({0})'.format(reg), np.amax(score), \\\n",
    "                'C = {0}'.format(C[np.argmax(score)]), class_coeff]\n",
    "\n",
    "\n",
    "def train_Nsvm(X, y, reg, scale=None):\n",
    "    \"\"\"\n",
    "    Implements NSVM\n",
    "    \n",
    "    Parameters:\n",
    "    --------------\n",
    "    X - Cleaned Data\n",
    "    y - Target\n",
    "    reg - rbf\n",
    "    scale - Default is None. Specify scaler e.g StandardScaler, MinMaxScaler\n",
    "    \n",
    "    \"\"\"\n",
    "    CC = [1e-8, 1e-4, 1e-3, 1e-2, 0.1, 0.2,0.4, 0.75, 1, 1.5, 3, 5, 10, 15,  20, 100, 300, 1000, 5000]\n",
    "    Number_trials=[42]\n",
    "    \n",
    "    print('Non-Linear SVM with Kernel - {}'.format(reg))\n",
    "    for seed in tqdm(Number_trials):\n",
    "        training_accuracy = []  \n",
    "        test_accuracy = []\n",
    "        X_train, X_test, y_train, y_test = train_test_split(X, y, test_size=0.25, random_state=seed)\n",
    "        \n",
    "        if scale:\n",
    "            X_train = scale.fit_transform(X_train)\n",
    "            X_test = scale.transform(X_test)\n",
    "        param_grids = {\n",
    "              'gamma': CC,\n",
    "              'C': [10,15,20,25] }   \n",
    "        est = SVC(kernel='rbf')\n",
    "        gs_cv = GridSearchCV(est, param_grids,n_jobs=-1).fit(X_train, y_train)\n",
    "\n",
    "#         print(\"Best Parameters\")\n",
    "#         print(gs_cv.best_params_)\n",
    "        params = gs_cv.best_params_\n",
    "#         print(\"\\n Accuracy Training = \", gs_cv.score(X_train, y_train))\n",
    "#         print(\"Accuracy Test = \", gs_cv.score(X_test, y_test))\n",
    "        score = gs_cv.score(X_test, y_test)\n",
    "\n",
    "    \n",
    "    top_predictor = 'NA'\n",
    "   \n",
    "    #print(X.columns(np.arg(np.abs(mean_coefs)))\n",
    "    #print(np.abs(mean_coefs))\n",
    "    #return score\n",
    "    #return C value, accuracy, column/feature name\n",
    "    #y_pred = lsvc_l1.predict(X_test)\n",
    "    #confmat = confusion_matrix(y_true=y_test, y_pred=y_pred)\n",
    "    #print(confmat)\n",
    "#     print('Scaling used is: ', scale)\n",
    "    return ['Nonlinear SVM ({0})'.format(reg),score, \\\n",
    "            params, top_predictor]\n",
    "\n",
    "\n",
    "def train_Nsvm_poly(X, y,reg,scale=None):\n",
    "    \"\"\"\n",
    "    Implements NSVM\n",
    "    \n",
    "    Parameters:\n",
    "    --------------\n",
    "    X - Cleaned Data\n",
    "    y - Target\n",
    "    reg - rbf\n",
    "    scale - Default is None. Specify scaler e.g StandardScaler, MinMaxScaler\n",
    "    \n",
    "    \"\"\"\n",
    "    \n",
    "    Number_trials=[42]\n",
    "    print('Non-Linear SVM with Kernel - poly')\n",
    "    for seed in tqdm(Number_trials):\n",
    "        training_accuracy = []  \n",
    "        test_accuracy = []\n",
    "        X_train, X_test, y_train, y_test = train_test_split(X, y, test_size=0.25, random_state=seed)\n",
    "        \n",
    "        if scale:\n",
    "            X_train = scale.fit_transform(X_train)\n",
    "            X_test = scale.transform(X_test)\n",
    "        param_grids = {\n",
    "              'C': [1,5,10,15,20],\n",
    "               'degree' : [2,3,4,5,6,7,8],\n",
    "                 'coef0':[10,15,20,25,30]}   \n",
    "        est = SVC(kernel='poly', random_state=1)\n",
    "        gs_cv = GridSearchCV(est, param_grids,n_jobs=-1).fit(X_train, y_train)\n",
    "        print(classification_report(y_test, gs_cv.predict(X_test)))\n",
    "\n",
    "#         print(\"Best Parameters\")\n",
    "#         print(gs_cv.best_params_)\n",
    "        params = gs_cv.best_params_\n",
    "#         print(\"\\n Accuracy Training = \", gs_cv.score(X_train, y_train))\n",
    "#         print(\"Accuracy Test = \", gs_cv.score(X_test, y_test))\n",
    "        score = gs_cv.score(X_test, y_test)\n",
    "\n",
    "    \n",
    "    top_predictor = 'NA'\n",
    "   \n",
    "    #print(X.columns(np.arg(np.abs(mean_coefs)))\n",
    "    #print(np.abs(mean_coefs))\n",
    "    #return score\n",
    "    #return C value, accuracy, column/feature name\n",
    "    #y_pred = lsvc_l1.predict(X_test)\n",
    "    #confmat = confusion_matrix(y_true=y_test, y_pred=y_pred)\n",
    "    #print(confmat)\n",
    "#     print('Scaling used is: ', scale)\n",
    "    return ['Nonlinear SVM ({0})'.format(reg),score, \\\n",
    "            params, top_predictor]\n",
    "\n",
    "\n",
    "def train_DecisonTree(X, y,scale=None,draw_tree=None):\n",
    "    \"\"\"\n",
    "    Implements Decison Tree\n",
    "    \n",
    "    Parameters:\n",
    "    --------------\n",
    "    X - Cleaned Data\n",
    "    y - Target\n",
    "    draw_tree - to draw the tree visualization\n",
    "    \n",
    "    \"\"\"\n",
    "    \n",
    "    Number_trials=[42]\n",
    "    print('Decision_Tree')\n",
    "    for seed in tqdm(Number_trials):\n",
    "        training_accuracy = []  \n",
    "        test_accuracy = []\n",
    "        X_train, X_test, y_train, y_test = train_test_split(X, y, test_size=0.25, random_state=seed)\n",
    "\n",
    "\n",
    "        param_grids = {\n",
    "                  'max_depth': [3, 4, 6, 10, 14,20,30,50,None],\n",
    "                  'min_samples_leaf': [2, 3, 4,5,6],\n",
    "                  'max_features': [.5,.3, .2,'auto'] \n",
    "    }    \n",
    "        est = DecisionTreeClassifier(random_state=1)\n",
    "        gs_cv = GridSearchCV(est, param_grids,n_jobs=-1).fit(X_train, y_train)\n",
    "\n",
    "    \n",
    "    params = gs_cv.best_params_\n",
    "   \n",
    "    score = gs_cv.score(X_test, y_test)\n",
    "    feat= gs_cv.best_estimator_.feature_importances_\n",
    "    top_predictor = X.columns[np.argmax(feat)]\n",
    "    fig, ax = plt.subplots(figsize=(3,5))\n",
    "    ax.barh(np.arange(len(feat)), sorted(feat))\n",
    "    #ax.barh(np.arange(coefs_count), mean_coefs[0, np.argsort(abs_mean_coefs)])\n",
    "    ax.set_yticks(np.arange(len(feat)))\n",
    "    ax.set_yticklabels(X.columns[np.argsort(feat)])\n",
    "    ax.set_title('Decison Tree Feature Importance')\n",
    "#     if draw_tree == True:\n",
    "# #         from sklearn.tree import export_graphviz\n",
    "#         label = np.unique(y)\n",
    "#         est = DecisionTreeClassifier(random_state=1,max_depth=params['max_depth'],max_features=params['max_features'],min_samples_leaf=params['min_samples_leaf']).fit(X_train, y_train)\n",
    "#         export_graphviz(est, out_file=\"mytree.dot\", class_names=['0','1'],#set this cass label manually\n",
    "#         feature_names=X.columns, impurity=False, filled=True)\n",
    "#         import graphviz\n",
    "#         with open(\"mytree.dot\") as f:\n",
    "#             dot_graph = f.read()\n",
    "#             graphviz.Source(dot_graph) # use it to plot the tree\n",
    "    \n",
    "    return ['Decision Tree',score, \\\n",
    "            params, top_predictor]\n",
    "\n",
    "def train_RandomForest(X, y,scale=None,draw_tree=None):\n",
    "    \"\"\"\n",
    "    Implements Random Forest\n",
    "    \n",
    "    Parameters:\n",
    "    --------------\n",
    "    X - Cleaned Data\n",
    "    y - Target\n",
    "    \n",
    "    \n",
    "    \"\"\"\n",
    "    \n",
    "    Number_trials=[42]\n",
    "    print('Random_Forest')\n",
    "    for seed in tqdm(Number_trials):\n",
    "        training_accuracy = []  \n",
    "        test_accuracy = []\n",
    "        X_train, X_test, y_train, y_test = train_test_split(X, y, test_size=0.25, random_state=seed)\n",
    "\n",
    "\n",
    "        param_grids = {\n",
    "              'max_depth': [3, 4, 6,20,None],\n",
    "              'min_samples_leaf': [2, 3, 4,5,6],\n",
    "              'max_features': [.5,.3, .2,'auto'],\n",
    "               'n_estimators' : [10,100,200]}\n",
    "        \n",
    "        est = RandomForestClassifier(random_state=1)\n",
    "        gs_cv = GridSearchCV(est, param_grids,n_jobs=-1).fit(X_train, y_train)\n",
    "\n",
    "    \n",
    "    params = gs_cv.best_params_\n",
    "   \n",
    "    score = gs_cv.best_estimator_.score(X_test, y_test)\n",
    "    feat= gs_cv.best_estimator_.feature_importances_\n",
    "    top_predictor = X.columns[np.argmax(feat)]\n",
    "    fig, ax = plt.subplots(figsize=(3,5))\n",
    "    ax.barh(np.arange(len(feat)), sorted(feat))\n",
    "    #ax.barh(np.arange(coefs_count), mean_coefs[0, np.argsort(abs_mean_coefs)])\n",
    "    ax.set_yticks(np.arange(len(feat)))\n",
    "    ax.set_yticklabels(X.columns[np.argsort(feat)])\n",
    "    ax.set_title('Random Forest Feature Importance')\n",
    "#     if draw_tree == True:\n",
    "#         from sklearn.tree import export_graphviz\n",
    "#         label = np.unique(y)\n",
    "#         est = DecisionTreeClassifier(random_state=1,max_depth=params['max_depth'],max_features=params['max_features'],min_samples_leaf=params['min_samples_leaf']).fit(X_train, y_train)\n",
    "#         export_graphviz(est, out_file=\"mytree.dot\", class_names=['0','1'],#set this cass label manually\n",
    "#         feature_names=X.columns, impurity=False, filled=True)\n",
    "#         import graphviz\n",
    "#         with open(\"mytree.dot\") as f:\n",
    "#             dot_graph = f.read()\n",
    "#             graphviz.Source(dot_graph) # use it to plot the tree\n",
    "    \n",
    "    return ['Random Forest',score, \\\n",
    "            params, top_predictor]\n",
    "def train_GradientBoosting(X, y,scale=None,draw_tree=None):\n",
    "    \"\"\"\n",
    "    Implements Random Forest\n",
    "    \n",
    "    Parameters:\n",
    "    --------------\n",
    "    X - Cleaned Data\n",
    "    y - Target\n",
    "    \n",
    "    \n",
    "    \"\"\"\n",
    "    \n",
    "    Number_trials=[42]\n",
    "    print('Gradient Boosting')\n",
    "    for seed in tqdm(Number_trials):\n",
    "        training_accuracy = []  \n",
    "        test_accuracy = []\n",
    "        X_train, X_test, y_train, y_test = train_test_split(X, y, test_size=0.25, random_state=seed)\n",
    "\n",
    "\n",
    "        param_grids = {'learning_rate': [.2, 0.1, 0.05, 0.02, 0.01],\n",
    "              'max_depth': [3, 4, 6, 10, 14],\n",
    "              'min_samples_leaf': [2, 3, 4],\n",
    "              'max_features': [.5,.3, .2],\n",
    "                      'n_estimators':[100,150]}  \n",
    "        \n",
    "        est = GradientBoostingClassifier(random_state=1)\n",
    "        gs_cv = GridSearchCV(est, param_grids,n_jobs=-1).fit(X_train, y_train)\n",
    "\n",
    "    \n",
    "    params = gs_cv.best_params_\n",
    "   \n",
    "    score = gs_cv.best_estimator_.score(X_test, y_test)\n",
    "    feat= gs_cv.best_estimator_.feature_importances_\n",
    "    top_predictor = X.columns[np.argmax(feat)]\n",
    "    fig, ax = plt.subplots(figsize=(3,5))\n",
    "    ax.barh(np.arange(len(feat)), sorted(feat))\n",
    "    #ax.barh(np.arange(coefs_count), mean_coefs[0, np.argsort(abs_mean_coefs)])\n",
    "    ax.set_yticks(np.arange(len(feat)))\n",
    "    ax.set_yticklabels(X.columns[np.argsort(feat)])\n",
    "    ax.set_title('Gradient Boosting Feature Importance')\n",
    "#     if draw_tree == True:\n",
    "#         from sklearn.tree import export_graphviz\n",
    "#         label = np.unique(y)\n",
    "#         est = DecisionTreeClassifier(random_state=1,max_depth=params['max_depth'],max_features=params['max_features'],min_samples_leaf=params['min_samples_leaf']).fit(X_train, y_train)\n",
    "#         export_graphviz(est, out_file=\"mytree.dot\", class_names=['0','1'],#set this cass label manually\n",
    "#         feature_names=X.columns, impurity=False, filled=True)\n",
    "#         import graphviz\n",
    "#         with open(\"mytree.dot\") as f:\n",
    "#             dot_graph = f.read()\n",
    "#             graphviz.Source(dot_graph) # use it to plot the tree\n",
    "    \n",
    "    return ['Gradient Boosting',score, \\\n",
    "            params, top_predictor]\n",
    "\n",
    "def train_naive_Bayes(X, y, scale=None):\n",
    "    \"\"\"\n",
    "    Implements Naive Bayes Classification\n",
    "    \n",
    "    Parameters:\n",
    "    --------------\n",
    "    X - Cleaned Data\n",
    "    y - Target\n",
    "    scale - Default is None. Specify scaler e.g StandardScaler or MinMaxScaler\n",
    "    \n",
    "    \"\"\"\n",
    "    score_train = []\n",
    "    score_test = []\n",
    "    Number_trials=10\n",
    "    \n",
    "    print('Naive Bayes Classifier')\n",
    "    for seed in tqdm(range(Number_trials)):\n",
    "        X_train, X_test, y_train, y_test = train_test_split(X, y, test_size=0.25, random_state=seed)\n",
    "        if scale:\n",
    "            X_train = scale.fit_transform(X_train)\n",
    "            X_test = scale.transform(X_test)\n",
    "\n",
    "        \n",
    "        acc_train = []\n",
    "        acc_test = []\n",
    "\n",
    "         \n",
    "        clf = GaussianNB() # build the model \n",
    "        clf.fit(X_train, y_train)    \n",
    "#         acc_train.append(clf.score(X_train, y_train))\n",
    "#         acc_test.append(clf.score(X_test, y_test))\n",
    "\n",
    "        #score_train.append(acc_train)\n",
    "        score_test.append(clf.score(X_test,y_test))   \n",
    "        \n",
    "    #score = np.mean(score_test, axis=0)\n",
    "    #return n_neighbor, accuracy\n",
    "#     print('Scaling used is: ', scale)\n",
    "    return ['Naive Bayes - Gaussian', np.max(score_test),'Seed {}'.format(np.argmax(score_test)+1), 'NA']\n",
    "\n",
    "def train_XGBoosting(X, y,scale=None,draw_tree=None):\n",
    "    \"\"\"\n",
    "    Implements Random Forest\n",
    "    \n",
    "    Parameters:\n",
    "    --------------\n",
    "    X - Cleaned Data\n",
    "    y - Target\n",
    "    \n",
    "    \n",
    "    \"\"\"\n",
    "    \n",
    "    Number_trials=[42]\n",
    "    print('XG Boosting')\n",
    "    for seed in tqdm(Number_trials):\n",
    "        training_accuracy = []  \n",
    "        test_accuracy = []\n",
    "        X_train, X_test, y_train, y_test = train_test_split(X, y, test_size=0.25, random_state=seed)\n",
    "\n",
    "\n",
    "        param_grids = {'learning_rate': [.2, 0.1, 0.05, 0.02, 0.01],\n",
    "              'max_depth': [3, 4, 6, 10, 14],\n",
    "              'n_estimators':[100,150]}  \n",
    "        \n",
    "        est = XGBClassifier()\n",
    "        gs_cv = GridSearchCV(est, param_grids,n_jobs=-1).fit(X_train, y_train)\n",
    "\n",
    "    \n",
    "    params = gs_cv.best_params_\n",
    "   \n",
    "    score = gs_cv.best_estimator_.score(X_test, y_test)\n",
    "    feat= gs_cv.best_estimator_.feature_importances_\n",
    "    top_predictor = X.columns[np.argmax(feat)]\n",
    "    fig, ax = plt.subplots(figsize=(3,5))\n",
    "    ax.barh(np.arange(len(feat)), sorted(feat))\n",
    "    #ax.barh(np.arange(coefs_count), mean_coefs[0, np.argsort(abs_mean_coefs)])\n",
    "    ax.set_yticks(np.arange(len(feat)))\n",
    "    ax.set_yticklabels(X.columns[np.argsort(feat)])\n",
    "    ax.set_title('Xg Boost Feature Importance')\n",
    "#     if draw_tree == True:\n",
    "#         from sklearn.tree import export_graphviz\n",
    "#         label = np.unique(y)\n",
    "#         est = DecisionTreeClassifier(random_state=1,max_depth=params['max_depth'],max_features=params['max_features'],min_samples_leaf=params['min_samples_leaf']).fit(X_train, y_train)\n",
    "#         export_graphviz(est, out_file=\"mytree.dot\", class_names=['0','1'],#set this cass label manually\n",
    "#         feature_names=X.columns, impurity=False, filled=True)\n",
    "#         import graphviz\n",
    "#         with open(\"mytree.dot\") as f:\n",
    "#             dot_graph = f.read()\n",
    "#             graphviz.Source(dot_graph) # use it to plot the tree\n",
    "    \n",
    "    return ['XgBoost',score, \\\n",
    "            params, top_predictor]"
   ]
  },
  {
   "cell_type": "code",
   "execution_count": 9,
   "metadata": {
    "ExecuteTime": {
     "end_time": "2019-08-16T15:38:17.249958Z",
     "start_time": "2019-08-16T15:36:46.954777Z"
    }
   },
   "outputs": [
    {
     "name": "stdout",
     "output_type": "stream",
     "text": [
      "KNN Classifier\n"
     ]
    },
    {
     "data": {
      "application/vnd.jupyter.widget-view+json": {
       "model_id": "24c5c5fa2e364067a9ccee68fdcaa1fe",
       "version_major": 2,
       "version_minor": 0
      },
      "text/plain": [
       "HBox(children=(IntProgress(value=0, max=10), HTML(value='')))"
      ]
     },
     "metadata": {},
     "output_type": "display_data"
    },
    {
     "name": "stdout",
     "output_type": "stream",
     "text": [
      "\n",
      "Logistic - l2\n"
     ]
    },
    {
     "data": {
      "application/vnd.jupyter.widget-view+json": {
       "model_id": "541c7a9bc1f546af850f6a29ef642208",
       "version_major": 2,
       "version_minor": 0
      },
      "text/plain": [
       "HBox(children=(IntProgress(value=0, max=10), HTML(value='')))"
      ]
     },
     "metadata": {},
     "output_type": "display_data"
    },
    {
     "name": "stdout",
     "output_type": "stream",
     "text": [
      "\n",
      "Logistic - l1\n"
     ]
    },
    {
     "data": {
      "application/vnd.jupyter.widget-view+json": {
       "model_id": "587c1bd7c84544e59ed439f4200c842c",
       "version_major": 2,
       "version_minor": 0
      },
      "text/plain": [
       "HBox(children=(IntProgress(value=0, max=10), HTML(value='')))"
      ]
     },
     "metadata": {},
     "output_type": "display_data"
    },
    {
     "name": "stdout",
     "output_type": "stream",
     "text": [
      "\n",
      "SVM - l2\n"
     ]
    },
    {
     "data": {
      "application/vnd.jupyter.widget-view+json": {
       "model_id": "4f2e578403dc4ee2baf44994e691e030",
       "version_major": 2,
       "version_minor": 0
      },
      "text/plain": [
       "HBox(children=(IntProgress(value=0, max=10), HTML(value='')))"
      ]
     },
     "metadata": {},
     "output_type": "display_data"
    },
    {
     "name": "stdout",
     "output_type": "stream",
     "text": [
      "\n",
      "SVM - l1\n"
     ]
    },
    {
     "data": {
      "application/vnd.jupyter.widget-view+json": {
       "model_id": "26d5037baf0343f0992931b4fb37b523",
       "version_major": 2,
       "version_minor": 0
      },
      "text/plain": [
       "HBox(children=(IntProgress(value=0, max=10), HTML(value='')))"
      ]
     },
     "metadata": {},
     "output_type": "display_data"
    },
    {
     "name": "stdout",
     "output_type": "stream",
     "text": [
      "\n",
      "Non-Linear SVM with Kernel - rbf\n"
     ]
    },
    {
     "data": {
      "application/vnd.jupyter.widget-view+json": {
       "model_id": "335b7f80968749c2b5a8b6a4fe4cc7ff",
       "version_major": 2,
       "version_minor": 0
      },
      "text/plain": [
       "HBox(children=(IntProgress(value=0, max=1), HTML(value='')))"
      ]
     },
     "metadata": {},
     "output_type": "display_data"
    },
    {
     "name": "stdout",
     "output_type": "stream",
     "text": [
      "\n",
      "Non-Linear SVM with Kernel - poly\n"
     ]
    },
    {
     "data": {
      "application/vnd.jupyter.widget-view+json": {
       "model_id": "c6b75d53339542c7909dbda7676d4fdc",
       "version_major": 2,
       "version_minor": 0
      },
      "text/plain": [
       "HBox(children=(IntProgress(value=0, max=1), HTML(value='')))"
      ]
     },
     "metadata": {},
     "output_type": "display_data"
    },
    {
     "name": "stdout",
     "output_type": "stream",
     "text": [
      "              precision    recall  f1-score   support\n",
      "\n",
      "           0       0.87      0.93      0.90        14\n",
      "           1       0.90      0.82      0.86        11\n",
      "\n",
      "    accuracy                           0.88        25\n",
      "   macro avg       0.88      0.87      0.88        25\n",
      "weighted avg       0.88      0.88      0.88        25\n",
      "\n",
      "\n",
      "Decision_Tree\n"
     ]
    },
    {
     "data": {
      "application/vnd.jupyter.widget-view+json": {
       "model_id": "a04ff7c144454a749018a720a385831c",
       "version_major": 2,
       "version_minor": 0
      },
      "text/plain": [
       "HBox(children=(IntProgress(value=0, max=1), HTML(value='')))"
      ]
     },
     "metadata": {},
     "output_type": "display_data"
    },
    {
     "name": "stdout",
     "output_type": "stream",
     "text": [
      "\n",
      "Random_Forest\n"
     ]
    },
    {
     "data": {
      "application/vnd.jupyter.widget-view+json": {
       "model_id": "e04a1795d8944cdebcf2a569572660d7",
       "version_major": 2,
       "version_minor": 0
      },
      "text/plain": [
       "HBox(children=(IntProgress(value=0, max=1), HTML(value='')))"
      ]
     },
     "metadata": {},
     "output_type": "display_data"
    },
    {
     "name": "stdout",
     "output_type": "stream",
     "text": [
      "\n",
      "Gradient Boosting\n"
     ]
    },
    {
     "data": {
      "application/vnd.jupyter.widget-view+json": {
       "model_id": "cccc2440adf8409694ffe4d0fc2f1435",
       "version_major": 2,
       "version_minor": 0
      },
      "text/plain": [
       "HBox(children=(IntProgress(value=0, max=1), HTML(value='')))"
      ]
     },
     "metadata": {},
     "output_type": "display_data"
    },
    {
     "name": "stdout",
     "output_type": "stream",
     "text": [
      "\n",
      "XG Boosting\n"
     ]
    },
    {
     "data": {
      "application/vnd.jupyter.widget-view+json": {
       "model_id": "4214710cda7d4b07bcb86f1f1b890c3c",
       "version_major": 2,
       "version_minor": 0
      },
      "text/plain": [
       "HBox(children=(IntProgress(value=0, max=1), HTML(value='')))"
      ]
     },
     "metadata": {},
     "output_type": "display_data"
    },
    {
     "name": "stdout",
     "output_type": "stream",
     "text": [
      "\n",
      "Naive Bayes Classifier\n"
     ]
    },
    {
     "data": {
      "application/vnd.jupyter.widget-view+json": {
       "model_id": "8e018b8900b7489ba7fac79e02ba7c4b",
       "version_major": 2,
       "version_minor": 0
      },
      "text/plain": [
       "HBox(children=(IntProgress(value=0, max=10), HTML(value='')))"
      ]
     },
     "metadata": {},
     "output_type": "display_data"
    },
    {
     "name": "stdout",
     "output_type": "stream",
     "text": [
      "\n"
     ]
    },
    {
     "data": {
      "image/png": "[encoded data removed]",
      "text/plain": [
       "<Figure size 216x360 with 1 Axes>"
      ]
     },
     "metadata": {
      "needs_background": "light"
     },
     "output_type": "display_data"
    },
    {
     "data": {
      "image/png": "[encoded data removed]",
      "text/plain": [
       "<Figure size 216x360 with 1 Axes>"
      ]
     },
     "metadata": {
      "needs_background": "light"
     },
     "output_type": "display_data"
    },
    {
     "data": {
      "image/png": "[encoded data removed]",
      "text/plain": [
       "<Figure size 216x360 with 1 Axes>"
      ]
     },
     "metadata": {
      "needs_background": "light"
     },
     "output_type": "display_data"
    },
    {
     "data": {
      "image/png": "[encoded data removed]",
      "text/plain": [
       "<Figure size 216x360 with 1 Axes>"
      ]
     },
     "metadata": {
      "needs_background": "light"
     },
     "output_type": "display_data"
    },
    {
     "data": {
      "image/png": "[encoded data removed]",
      "text/plain": [
       "<Figure size 216x360 with 1 Axes>"
      ]
     },
     "metadata": {
      "needs_background": "light"
     },
     "output_type": "display_data"
    },
    {
     "data": {
      "image/png": "[encoded data removed]",
      "text/plain": [
       "<Figure size 216x360 with 1 Axes>"
      ]
     },
     "metadata": {
      "needs_background": "light"
     },
     "output_type": "display_data"
    },
    {
     "data": {
      "image/png": "[encoded data removed]",
      "text/plain": [
       "<Figure size 216x360 with 1 Axes>"
      ]
     },
     "metadata": {
      "needs_background": "light"
     },
     "output_type": "display_data"
    },
    {
     "data": {
      "image/png": "[encoded data removed]",
      "text/plain": [
       "<Figure size 216x360 with 1 Axes>"
      ]
     },
     "metadata": {
      "needs_background": "light"
     },
     "output_type": "display_data"
    }
   ],
   "source": [
    "import warnings\n",
    "warnings.filterwarnings('ignore')\n",
    "# %%time\n",
    "\n",
    "feature_names = ['Eng7', 'Eng8', 'Eng9', 'Math7', 'Math8', 'Math9', 'Sci7', \n",
    "                 'Sci8', 'Sci9', 'GWA7', 'GWA8', 'GWA9', 'IQ', 'SA']\n",
    "\n",
    "X = X_clean[feature_names]\n",
    "y = X_clean['Target']\n",
    "\n",
    "\n",
    "a = train_knn(X,y,scale=MinMaxScaler())\n",
    "# print(a)\n",
    "b = train_logistic(X,y,reg='l2',scale=MinMaxScaler())\n",
    "# print(b)\n",
    "c = train_logistic(X,y,reg='l1',scale=MinMaxScaler())\n",
    "# print(c)\n",
    "d = train_svm(X,y,reg='l2',scale=MinMaxScaler())\n",
    "# print(d)\n",
    "e = train_svm(X,y,reg='l1',scale=MinMaxScaler())\n",
    "# print(e)\n",
    "f = train_Nsvm(X,y,reg='rbf',scale=MinMaxScaler())\n",
    "# print(f)\n",
    "g = train_Nsvm_poly(X,y,reg='poly',scale=MinMaxScaler())\n",
    "\n",
    "h = train_DecisonTree(X,y,scale=None,draw_tree=True)\n",
    "\n",
    "i = train_RandomForest(X,y,scale=None,draw_tree=True)\n",
    "j = train_GradientBoosting(X,y,scale=None,draw_tree=True)\n",
    "k = train_XGBoosting(X,y,scale=None,draw_tree=True)\n",
    "l = train_naive_Bayes(X,y,scale=None)"
   ]
  },
  {
   "cell_type": "code",
   "execution_count": null,
   "metadata": {},
   "outputs": [],
   "source": [
    "# print(classification_report(y_test, gs_cv.best_estimator_.predict(X_test)))"
   ]
  },
  {
   "cell_type": "code",
   "execution_count": 11,
   "metadata": {
    "ExecuteTime": {
     "end_time": "2019-08-16T15:38:21.914874Z",
     "start_time": "2019-08-16T15:38:21.799888Z"
    }
   },
   "outputs": [
    {
     "data": {
      "text/html": [
       "<div>\n",
       "<style scoped>\n",
       "    .dataframe tbody tr th:only-of-type {\n",
       "        vertical-align: middle;\n",
       "    }\n",
       "\n",
       "    .dataframe tbody tr th {\n",
       "        vertical-align: top;\n",
       "    }\n",
       "\n",
       "    .dataframe thead th {\n",
       "        text-align: right;\n",
       "    }\n",
       "</style>\n",
       "<table border=\"1\" class=\"dataframe\">\n",
       "  <thead>\n",
       "    <tr style=\"text-align: right;\">\n",
       "      <th></th>\n",
       "      <th>Machine Learning Method</th>\n",
       "      <th>Test Accuracy</th>\n",
       "      <th>Best Parameter</th>\n",
       "      <th>Top Predictor Variable</th>\n",
       "    </tr>\n",
       "  </thead>\n",
       "  <tbody>\n",
       "    <tr>\n",
       "      <th>0</th>\n",
       "      <td>kNN</td>\n",
       "      <td>0.828</td>\n",
       "      <td>N_Neighbor = 5</td>\n",
       "      <td>NA</td>\n",
       "    </tr>\n",
       "    <tr>\n",
       "      <th>1</th>\n",
       "      <td>Logistic (l2)</td>\n",
       "      <td>0.840</td>\n",
       "      <td>C = 1000</td>\n",
       "      <td>GWA8</td>\n",
       "    </tr>\n",
       "    <tr>\n",
       "      <th>2</th>\n",
       "      <td>Logistic (l1)</td>\n",
       "      <td>0.840</td>\n",
       "      <td>C = 10</td>\n",
       "      <td>GWA8</td>\n",
       "    </tr>\n",
       "    <tr>\n",
       "      <th>3</th>\n",
       "      <td>SVM (l2)</td>\n",
       "      <td>0.840</td>\n",
       "      <td>C = 3</td>\n",
       "      <td>GWA8</td>\n",
       "    </tr>\n",
       "    <tr>\n",
       "      <th>4</th>\n",
       "      <td>SVM (l1)</td>\n",
       "      <td>0.856</td>\n",
       "      <td>C = 3</td>\n",
       "      <td>Math7</td>\n",
       "    </tr>\n",
       "    <tr>\n",
       "      <th>5</th>\n",
       "      <td>Nonlinear SVM (rbf)</td>\n",
       "      <td>0.920</td>\n",
       "      <td>{'C': 10, 'gamma': 0.2}</td>\n",
       "      <td>NA</td>\n",
       "    </tr>\n",
       "    <tr>\n",
       "      <th>6</th>\n",
       "      <td>Nonlinear SVM (poly)</td>\n",
       "      <td>0.880</td>\n",
       "      <td>{'C': 10, 'coef0': 15, 'degree': 2}</td>\n",
       "      <td>NA</td>\n",
       "    </tr>\n",
       "    <tr>\n",
       "      <th>7</th>\n",
       "      <td>Decision Tree</td>\n",
       "      <td>0.880</td>\n",
       "      <td>{'max_depth': 3, 'max_features': 0.2, 'min_samples_leaf': 5}</td>\n",
       "      <td>Sci9</td>\n",
       "    </tr>\n",
       "    <tr>\n",
       "      <th>8</th>\n",
       "      <td>Random Forest</td>\n",
       "      <td>0.880</td>\n",
       "      <td>{'max_depth': 3, 'max_features': 0.5, 'min_samples_leaf': 2, 'n_estimators': 100}</td>\n",
       "      <td>Sci7</td>\n",
       "    </tr>\n",
       "    <tr>\n",
       "      <th>9</th>\n",
       "      <td>Gradient Boosting</td>\n",
       "      <td>0.880</td>\n",
       "      <td>{'learning_rate': 0.01, 'max_depth': 4, 'max_features': 0.2, 'min_samples_leaf': 3, 'n_estimators': 150}</td>\n",
       "      <td>Sci7</td>\n",
       "    </tr>\n",
       "    <tr>\n",
       "      <th>10</th>\n",
       "      <td>XgBoost</td>\n",
       "      <td>0.840</td>\n",
       "      <td>{'learning_rate': 0.1, 'max_depth': 3, 'n_estimators': 150}</td>\n",
       "      <td>Math9</td>\n",
       "    </tr>\n",
       "    <tr>\n",
       "      <th>11</th>\n",
       "      <td>Naive Bayes - Gaussian</td>\n",
       "      <td>0.920</td>\n",
       "      <td>Seed 8</td>\n",
       "      <td>NA</td>\n",
       "    </tr>\n",
       "  </tbody>\n",
       "</table>\n",
       "</div>"
      ],
      "text/plain": [
       "   Machine Learning Method  Test Accuracy  \\\n",
       "0   kNN                     0.828           \n",
       "1   Logistic (l2)           0.840           \n",
       "2   Logistic (l1)           0.840           \n",
       "3   SVM (l2)                0.840           \n",
       "4   SVM (l1)                0.856           \n",
       "5   Nonlinear SVM (rbf)     0.920           \n",
       "6   Nonlinear SVM (poly)    0.880           \n",
       "7   Decision Tree           0.880           \n",
       "8   Random Forest           0.880           \n",
       "9   Gradient Boosting       0.880           \n",
       "10  XgBoost                 0.840           \n",
       "11  Naive Bayes - Gaussian  0.920           \n",
       "\n",
       "                                                                                              Best Parameter  \\\n",
       "0   N_Neighbor = 5                                                                                             \n",
       "1   C = 1000                                                                                                   \n",
       "2   C = 10                                                                                                     \n",
       "3   C = 3                                                                                                      \n",
       "4   C = 3                                                                                                      \n",
       "5   {'C': 10, 'gamma': 0.2}                                                                                    \n",
       "6   {'C': 10, 'coef0': 15, 'degree': 2}                                                                        \n",
       "7   {'max_depth': 3, 'max_features': 0.2, 'min_samples_leaf': 5}                                               \n",
       "8   {'max_depth': 3, 'max_features': 0.5, 'min_samples_leaf': 2, 'n_estimators': 100}                          \n",
       "9   {'learning_rate': 0.01, 'max_depth': 4, 'max_features': 0.2, 'min_samples_leaf': 3, 'n_estimators': 150}   \n",
       "10  {'learning_rate': 0.1, 'max_depth': 3, 'n_estimators': 150}                                                \n",
       "11  Seed 8                                                                                                     \n",
       "\n",
       "   Top Predictor Variable  \n",
       "0   NA                     \n",
       "1   GWA8                   \n",
       "2   GWA8                   \n",
       "3   GWA8                   \n",
       "4   Math7                  \n",
       "5   NA                     \n",
       "6   NA                     \n",
       "7   Sci9                   \n",
       "8   Sci7                   \n",
       "9   Sci7                   \n",
       "10  Math9                  \n",
       "11  NA                     "
      ]
     },
     "execution_count": 11,
     "metadata": {},
     "output_type": "execute_result"
    }
   ],
   "source": [
    "cols = ['Machine Learning Method', 'Test Accuracy', 'Best Parameter', 'Top Predictor Variable']\n",
    "df2 = pd.DataFrame(columns=cols)\n",
    "pd.set_option('display.max_colwidth', -1)\n",
    "df2.loc[0] = a\n",
    "df2.loc[1] = b\n",
    "df2.loc[2] = c\n",
    "df2.loc[3] = d\n",
    "df2.loc[4] = e\n",
    "df2.loc[5] = f\n",
    "df2.loc[6] = g\n",
    "df2.loc[7] = h\n",
    "df2.loc[8] = i\n",
    "df2.loc[9] = j\n",
    "df2.loc[10] = k\n",
    "df2.loc[11] = l\n",
    "df2"
   ]
  },
  {
   "cell_type": "code",
   "execution_count": 7,
   "metadata": {
    "ExecuteTime": {
     "end_time": "2019-08-16T15:34:19.268194Z",
     "start_time": "2019-08-16T15:34:19.240642Z"
    }
   },
   "outputs": [
    {
     "data": {
      "text/html": [
       "<div>\n",
       "<style scoped>\n",
       "    .dataframe tbody tr th:only-of-type {\n",
       "        vertical-align: middle;\n",
       "    }\n",
       "\n",
       "    .dataframe tbody tr th {\n",
       "        vertical-align: top;\n",
       "    }\n",
       "\n",
       "    .dataframe thead th {\n",
       "        text-align: right;\n",
       "    }\n",
       "</style>\n",
       "<table border=\"1\" class=\"dataframe\">\n",
       "  <thead>\n",
       "    <tr style=\"text-align: right;\">\n",
       "      <th></th>\n",
       "      <th>Machine Learning Method</th>\n",
       "      <th>Test Accuracy</th>\n",
       "      <th>Best Parameter</th>\n",
       "      <th>Top Predictor Variable</th>\n",
       "    </tr>\n",
       "  </thead>\n",
       "  <tbody>\n",
       "    <tr>\n",
       "      <th>0</th>\n",
       "      <td>kNN</td>\n",
       "      <td>0.828</td>\n",
       "      <td>N_Neighbor = 5</td>\n",
       "      <td>NA</td>\n",
       "    </tr>\n",
       "    <tr>\n",
       "      <th>1</th>\n",
       "      <td>Logistic (l2)</td>\n",
       "      <td>0.840</td>\n",
       "      <td>C = 1000</td>\n",
       "      <td>GWA8</td>\n",
       "    </tr>\n",
       "    <tr>\n",
       "      <th>2</th>\n",
       "      <td>Logistic (l1)</td>\n",
       "      <td>0.840</td>\n",
       "      <td>C = 10</td>\n",
       "      <td>GWA8</td>\n",
       "    </tr>\n",
       "    <tr>\n",
       "      <th>3</th>\n",
       "      <td>SVM (l2)</td>\n",
       "      <td>0.840</td>\n",
       "      <td>C = 3</td>\n",
       "      <td>GWA8</td>\n",
       "    </tr>\n",
       "    <tr>\n",
       "      <th>4</th>\n",
       "      <td>SVM (l1)</td>\n",
       "      <td>0.844</td>\n",
       "      <td>C = 5</td>\n",
       "      <td>Math7</td>\n",
       "    </tr>\n",
       "    <tr>\n",
       "      <th>5</th>\n",
       "      <td>Nonlinear SVM (rbf)</td>\n",
       "      <td>0.920</td>\n",
       "      <td>{'C': 10, 'gamma': 0.2}</td>\n",
       "      <td>NA</td>\n",
       "    </tr>\n",
       "    <tr>\n",
       "      <th>6</th>\n",
       "      <td>Nonlinear SVM (poly)</td>\n",
       "      <td>0.880</td>\n",
       "      <td>{'C': 10, 'coef0': 15, 'degree': 2}</td>\n",
       "      <td>NA</td>\n",
       "    </tr>\n",
       "    <tr>\n",
       "      <th>7</th>\n",
       "      <td>Decision Tree</td>\n",
       "      <td>0.880</td>\n",
       "      <td>{'max_depth': 3, 'max_features': 0.2, 'min_samples_leaf': 5}</td>\n",
       "      <td>Sci9</td>\n",
       "    </tr>\n",
       "    <tr>\n",
       "      <th>8</th>\n",
       "      <td>Random Forest</td>\n",
       "      <td>0.880</td>\n",
       "      <td>{'max_depth': 3, 'max_features': 0.5, 'min_samples_leaf': 2, 'n_estimators': 100}</td>\n",
       "      <td>Sci7</td>\n",
       "    </tr>\n",
       "    <tr>\n",
       "      <th>9</th>\n",
       "      <td>Gradient Boosting</td>\n",
       "      <td>0.880</td>\n",
       "      <td>{'learning_rate': 0.01, 'max_depth': 4, 'max_features': 0.2, 'min_samples_leaf': 3, 'n_estimators': 150}</td>\n",
       "      <td>Sci7</td>\n",
       "    </tr>\n",
       "    <tr>\n",
       "      <th>10</th>\n",
       "      <td>XgBoost</td>\n",
       "      <td>0.840</td>\n",
       "      <td>{'learning_rate': 0.1, 'max_depth': 3, 'n_estimators': 150}</td>\n",
       "      <td>Math9</td>\n",
       "    </tr>\n",
       "    <tr>\n",
       "      <th>11</th>\n",
       "      <td>Naive Bayes - Gaussian</td>\n",
       "      <td>0.920</td>\n",
       "      <td>Seed 8</td>\n",
       "      <td>NA</td>\n",
       "    </tr>\n",
       "  </tbody>\n",
       "</table>\n",
       "</div>"
      ],
      "text/plain": [
       "   Machine Learning Method  Test Accuracy  \\\n",
       "0   kNN                     0.828           \n",
       "1   Logistic (l2)           0.840           \n",
       "2   Logistic (l1)           0.840           \n",
       "3   SVM (l2)                0.840           \n",
       "4   SVM (l1)                0.844           \n",
       "5   Nonlinear SVM (rbf)     0.920           \n",
       "6   Nonlinear SVM (poly)    0.880           \n",
       "7   Decision Tree           0.880           \n",
       "8   Random Forest           0.880           \n",
       "9   Gradient Boosting       0.880           \n",
       "10  XgBoost                 0.840           \n",
       "11  Naive Bayes - Gaussian  0.920           \n",
       "\n",
       "                                                                                              Best Parameter  \\\n",
       "0   N_Neighbor = 5                                                                                             \n",
       "1   C = 1000                                                                                                   \n",
       "2   C = 10                                                                                                     \n",
       "3   C = 3                                                                                                      \n",
       "4   C = 5                                                                                                      \n",
       "5   {'C': 10, 'gamma': 0.2}                                                                                    \n",
       "6   {'C': 10, 'coef0': 15, 'degree': 2}                                                                        \n",
       "7   {'max_depth': 3, 'max_features': 0.2, 'min_samples_leaf': 5}                                               \n",
       "8   {'max_depth': 3, 'max_features': 0.5, 'min_samples_leaf': 2, 'n_estimators': 100}                          \n",
       "9   {'learning_rate': 0.01, 'max_depth': 4, 'max_features': 0.2, 'min_samples_leaf': 3, 'n_estimators': 150}   \n",
       "10  {'learning_rate': 0.1, 'max_depth': 3, 'n_estimators': 150}                                                \n",
       "11  Seed 8                                                                                                     \n",
       "\n",
       "   Top Predictor Variable  \n",
       "0   NA                     \n",
       "1   GWA8                   \n",
       "2   GWA8                   \n",
       "3   GWA8                   \n",
       "4   Math7                  \n",
       "5   NA                     \n",
       "6   NA                     \n",
       "7   Sci9                   \n",
       "8   Sci7                   \n",
       "9   Sci7                   \n",
       "10  Math9                  \n",
       "11  NA                     "
      ]
     },
     "execution_count": 7,
     "metadata": {},
     "output_type": "execute_result"
    }
   ],
   "source": [
    "df2"
   ]
  },
  {
   "cell_type": "markdown",
   "metadata": {},
   "source": [
    "# 2. For the Entire data , plz note that the Poly SVM takes an extremely large amount of time to run, hence only degree hyper-parameter is varied "
   ]
  },
  {
   "cell_type": "code",
   "execution_count": 8,
   "metadata": {
    "ExecuteTime": {
     "end_time": "2019-08-15T09:08:52.653063Z",
     "start_time": "2019-08-15T09:08:52.363026Z"
    }
   },
   "outputs": [
    {
     "data": {
      "text/plain": [
       "(1010, 19)"
      ]
     },
     "execution_count": 8,
     "metadata": {},
     "output_type": "execute_result"
    }
   ],
   "source": [
    "df_UPCAT = pd.read_excel('UPCAT_DATA2.xlsx', sheetname='AllData')\n",
    "dummy = df_UPCAT\n",
    "dummy.head()\n",
    "X_transition = pd.DataFrame(df_UPCAT)\n",
    "X_clean = DataFrameImputer().fit_transform(X_transition)\n",
    "\n",
    "X_clean.isnull().sum()\n",
    "X_clean.shape"
   ]
  },
  {
   "cell_type": "code",
   "execution_count": 9,
   "metadata": {
    "ExecuteTime": {
     "end_time": "2019-08-15T09:08:52.673519Z",
     "start_time": "2019-08-15T09:08:52.655299Z"
    }
   },
   "outputs": [
    {
     "data": {
      "text/html": [
       "<div>\n",
       "<style scoped>\n",
       "    .dataframe tbody tr th:only-of-type {\n",
       "        vertical-align: middle;\n",
       "    }\n",
       "\n",
       "    .dataframe tbody tr th {\n",
       "        vertical-align: top;\n",
       "    }\n",
       "\n",
       "    .dataframe thead th {\n",
       "        text-align: right;\n",
       "    }\n",
       "</style>\n",
       "<table border=\"1\" class=\"dataframe\">\n",
       "  <thead>\n",
       "    <tr style=\"text-align: right;\">\n",
       "      <th></th>\n",
       "      <th>Batch</th>\n",
       "      <th>Eng7</th>\n",
       "      <th>Eng8</th>\n",
       "      <th>Eng9</th>\n",
       "      <th>Math7</th>\n",
       "      <th>Math8</th>\n",
       "      <th>Math9</th>\n",
       "      <th>Sci7</th>\n",
       "      <th>Sci8</th>\n",
       "      <th>Sci9</th>\n",
       "      <th>GWA7</th>\n",
       "      <th>GWA8</th>\n",
       "      <th>GWA9</th>\n",
       "      <th>UP</th>\n",
       "      <th>IQ</th>\n",
       "      <th>SA</th>\n",
       "      <th>C1</th>\n",
       "      <th>C2</th>\n",
       "      <th>Target</th>\n",
       "    </tr>\n",
       "  </thead>\n",
       "  <tbody>\n",
       "    <tr>\n",
       "      <th>0</th>\n",
       "      <td>2005</td>\n",
       "      <td>77</td>\n",
       "      <td>82.0</td>\n",
       "      <td>86</td>\n",
       "      <td>94</td>\n",
       "      <td>87</td>\n",
       "      <td>92.0</td>\n",
       "      <td>84</td>\n",
       "      <td>80</td>\n",
       "      <td>92</td>\n",
       "      <td>1.4764</td>\n",
       "      <td>1.5045</td>\n",
       "      <td>1.4098</td>\n",
       "      <td>1</td>\n",
       "      <td>55.0</td>\n",
       "      <td>28</td>\n",
       "      <td>1</td>\n",
       "      <td>4.0</td>\n",
       "      <td>1</td>\n",
       "    </tr>\n",
       "    <tr>\n",
       "      <th>1</th>\n",
       "      <td>2005</td>\n",
       "      <td>57</td>\n",
       "      <td>57.0</td>\n",
       "      <td>59</td>\n",
       "      <td>55</td>\n",
       "      <td>46</td>\n",
       "      <td>57.0</td>\n",
       "      <td>53</td>\n",
       "      <td>45</td>\n",
       "      <td>53</td>\n",
       "      <td>2.6557</td>\n",
       "      <td>2.7000</td>\n",
       "      <td>2.7008</td>\n",
       "      <td>1</td>\n",
       "      <td>38.0</td>\n",
       "      <td>19</td>\n",
       "      <td>5</td>\n",
       "      <td>3.0</td>\n",
       "      <td>0</td>\n",
       "    </tr>\n",
       "    <tr>\n",
       "      <th>2</th>\n",
       "      <td>2005</td>\n",
       "      <td>55</td>\n",
       "      <td>52.0</td>\n",
       "      <td>55</td>\n",
       "      <td>57</td>\n",
       "      <td>53</td>\n",
       "      <td>51.0</td>\n",
       "      <td>57</td>\n",
       "      <td>62</td>\n",
       "      <td>51</td>\n",
       "      <td>2.6132</td>\n",
       "      <td>2.6818</td>\n",
       "      <td>2.7172</td>\n",
       "      <td>0</td>\n",
       "      <td>17.0</td>\n",
       "      <td>9</td>\n",
       "      <td>5</td>\n",
       "      <td>6.0</td>\n",
       "      <td>0</td>\n",
       "    </tr>\n",
       "    <tr>\n",
       "      <th>3</th>\n",
       "      <td>2005</td>\n",
       "      <td>69</td>\n",
       "      <td>78.0</td>\n",
       "      <td>78</td>\n",
       "      <td>87</td>\n",
       "      <td>79</td>\n",
       "      <td>79.0</td>\n",
       "      <td>83</td>\n",
       "      <td>82</td>\n",
       "      <td>79</td>\n",
       "      <td>1.7217</td>\n",
       "      <td>1.6136</td>\n",
       "      <td>1.7049</td>\n",
       "      <td>1</td>\n",
       "      <td>45.0</td>\n",
       "      <td>28</td>\n",
       "      <td>1</td>\n",
       "      <td>4.0</td>\n",
       "      <td>0</td>\n",
       "    </tr>\n",
       "    <tr>\n",
       "      <th>4</th>\n",
       "      <td>2005</td>\n",
       "      <td>64</td>\n",
       "      <td>71.0</td>\n",
       "      <td>68</td>\n",
       "      <td>71</td>\n",
       "      <td>57</td>\n",
       "      <td>54.0</td>\n",
       "      <td>60</td>\n",
       "      <td>59</td>\n",
       "      <td>55</td>\n",
       "      <td>2.4245</td>\n",
       "      <td>2.4318</td>\n",
       "      <td>2.4713</td>\n",
       "      <td>1</td>\n",
       "      <td>67.0</td>\n",
       "      <td>56</td>\n",
       "      <td>1</td>\n",
       "      <td>5.0</td>\n",
       "      <td>0</td>\n",
       "    </tr>\n",
       "  </tbody>\n",
       "</table>\n",
       "</div>"
      ],
      "text/plain": [
       "   Batch  Eng7  Eng8  Eng9  Math7  Math8  Math9  Sci7  Sci8  Sci9    GWA7  \\\n",
       "0  2005   77    82.0  86    94     87     92.0   84    80    92    1.4764   \n",
       "1  2005   57    57.0  59    55     46     57.0   53    45    53    2.6557   \n",
       "2  2005   55    52.0  55    57     53     51.0   57    62    51    2.6132   \n",
       "3  2005   69    78.0  78    87     79     79.0   83    82    79    1.7217   \n",
       "4  2005   64    71.0  68    71     57     54.0   60    59    55    2.4245   \n",
       "\n",
       "     GWA8    GWA9  UP    IQ  SA  C1   C2  Target  \n",
       "0  1.5045  1.4098  1   55.0  28  1   4.0  1       \n",
       "1  2.7000  2.7008  1   38.0  19  5   3.0  0       \n",
       "2  2.6818  2.7172  0   17.0  9   5   6.0  0       \n",
       "3  1.6136  1.7049  1   45.0  28  1   4.0  0       \n",
       "4  2.4318  2.4713  1   67.0  56  1   5.0  0       "
      ]
     },
     "execution_count": 9,
     "metadata": {},
     "output_type": "execute_result"
    }
   ],
   "source": [
    "dummy.head()"
   ]
  },
  {
   "cell_type": "code",
   "execution_count": 10,
   "metadata": {
    "ExecuteTime": {
     "end_time": "2019-08-15T09:08:52.678745Z",
     "start_time": "2019-08-15T09:08:52.674752Z"
    }
   },
   "outputs": [],
   "source": [
    "# print(classification_report(y_test, gs_cv.best_estimator_.predict(X_test)))"
   ]
  },
  {
   "cell_type": "code",
   "execution_count": null,
   "metadata": {
    "ExecuteTime": {
     "start_time": "2019-08-15T09:07:59.783Z"
    },
    "scrolled": false
   },
   "outputs": [
    {
     "name": "stdout",
     "output_type": "stream",
     "text": [
      "KNN Classifier\n"
     ]
    },
    {
     "data": {
      "application/vnd.jupyter.widget-view+json": {
       "model_id": "f014d8660e9247e7a7923b82924ceb7f",
       "version_major": 2,
       "version_minor": 0
      },
      "text/plain": [
       "HBox(children=(IntProgress(value=0, max=10), HTML(value='')))"
      ]
     },
     "metadata": {},
     "output_type": "display_data"
    },
    {
     "name": "stdout",
     "output_type": "stream",
     "text": [
      "\n",
      "Logistic - l2\n"
     ]
    },
    {
     "data": {
      "application/vnd.jupyter.widget-view+json": {
       "model_id": "9b5f4a1747dc409c8e481442902b9802",
       "version_major": 2,
       "version_minor": 0
      },
      "text/plain": [
       "HBox(children=(IntProgress(value=0, max=10), HTML(value='')))"
      ]
     },
     "metadata": {},
     "output_type": "display_data"
    },
    {
     "name": "stdout",
     "output_type": "stream",
     "text": [
      "\n",
      "Logistic - l1\n"
     ]
    },
    {
     "data": {
      "application/vnd.jupyter.widget-view+json": {
       "model_id": "d4da55097a984d9db194b66d99d1bae6",
       "version_major": 2,
       "version_minor": 0
      },
      "text/plain": [
       "HBox(children=(IntProgress(value=0, max=10), HTML(value='')))"
      ]
     },
     "metadata": {},
     "output_type": "display_data"
    },
    {
     "name": "stdout",
     "output_type": "stream",
     "text": [
      "\n",
      "SVM - l2\n"
     ]
    },
    {
     "data": {
      "application/vnd.jupyter.widget-view+json": {
       "model_id": "67d87ecd4abf4ee6bbbbef51a28156f6",
       "version_major": 2,
       "version_minor": 0
      },
      "text/plain": [
       "HBox(children=(IntProgress(value=0, max=10), HTML(value='')))"
      ]
     },
     "metadata": {},
     "output_type": "display_data"
    },
    {
     "name": "stdout",
     "output_type": "stream",
     "text": [
      "\n",
      "SVM - l1\n"
     ]
    },
    {
     "data": {
      "application/vnd.jupyter.widget-view+json": {
       "model_id": "dc737ea857ea46a2a768784c05d8ba3c",
       "version_major": 2,
       "version_minor": 0
      },
      "text/plain": [
       "HBox(children=(IntProgress(value=0, max=10), HTML(value='')))"
      ]
     },
     "metadata": {},
     "output_type": "display_data"
    },
    {
     "name": "stdout",
     "output_type": "stream",
     "text": [
      "\n",
      "Non-Linear SVM with Kernel - rbf\n"
     ]
    },
    {
     "data": {
      "application/vnd.jupyter.widget-view+json": {
       "model_id": "a2c4f3e913754789ad866a6b18a4284d",
       "version_major": 2,
       "version_minor": 0
      },
      "text/plain": [
       "HBox(children=(IntProgress(value=0, max=1), HTML(value='')))"
      ]
     },
     "metadata": {},
     "output_type": "display_data"
    },
    {
     "name": "stdout",
     "output_type": "stream",
     "text": [
      "\n",
      "Non-Linear SVM with Kernel - poly\n"
     ]
    },
    {
     "data": {
      "application/vnd.jupyter.widget-view+json": {
       "model_id": "e607d97854734cb2ac9ae190c1e8d083",
       "version_major": 2,
       "version_minor": 0
      },
      "text/plain": [
       "HBox(children=(IntProgress(value=0, max=1), HTML(value='')))"
      ]
     },
     "metadata": {},
     "output_type": "display_data"
    }
   ],
   "source": [
    "import warnings\n",
    "warnings.filterwarnings('ignore')\n",
    "# %%time\n",
    "\n",
    "feature_names = ['Eng7', 'Eng8', 'Eng9', 'Math7', 'Math8', 'Math9', 'Sci7', \n",
    "                 'Sci8', 'Sci9', 'GWA7', 'GWA8', 'GWA9', 'IQ', 'SA']\n",
    "\n",
    "X = X_clean[feature_names]\n",
    "y = X_clean['Target']\n",
    "\n",
    "\n",
    "a = train_knn(X,y,scale=MinMaxScaler())\n",
    "# print(a)\n",
    "b = train_logistic(X,y,reg='l2',scale=MinMaxScaler())\n",
    "# print(b)\n",
    "c = train_logistic(X,y,reg='l1',scale=MinMaxScaler())\n",
    "# print(c)\n",
    "d = train_svm(X,y,reg='l2',scale=MinMaxScaler())\n",
    "# print(d)\n",
    "e = train_svm(X,y,reg='l1',scale=MinMaxScaler())\n",
    "# print(e)\n",
    "f = train_Nsvm(X,y,reg='rbf',scale=MinMaxScaler())\n",
    "# print(f)\n",
    "g = train_Nsvm_poly(X,y,reg='poly',scale=MinMaxScaler())\n",
    "\n",
    "cols = ['Machine Learning Method', 'Test Accuracy', 'Best Parameter', 'Top Predictor Variable']\n",
    "df2 = pd.DataFrame(columns=cols)\n",
    "\n",
    "df2.loc[0] = a\n",
    "df2.loc[1] = b\n",
    "df2.loc[2] = c\n",
    "df2.loc[3] = d\n",
    "df2.loc[4] = e\n",
    "df2.loc[5] = f\n",
    "df2.loc[6] = g\n",
    "#df2.loc[6] = g\n",
    "print(df2)"
   ]
  },
  {
   "cell_type": "code",
   "execution_count": null,
   "metadata": {
    "ExecuteTime": {
     "start_time": "2019-08-15T09:07:59.785Z"
    },
    "scrolled": true
   },
   "outputs": [],
   "source": [
    "df2"
   ]
  }
 ],
 "metadata": {
  "kernelspec": {
   "display_name": "Python 3",
   "language": "python",
   "name": "python3"
  },
  "language_info": {
   "codemirror_mode": {
    "name": "ipython",
    "version": 3
   },
   "file_extension": ".py",
   "mimetype": "text/x-python",
   "name": "python",
   "nbconvert_exporter": "python",
   "pygments_lexer": "ipython3",
   "version": "3.7.3"
  }
 },
 "nbformat": 4,
 "nbformat_minor": 2
}
